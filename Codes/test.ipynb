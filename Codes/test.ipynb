{
 "cells": [
  {
   "cell_type": "code",
   "execution_count": 1,
   "metadata": {},
   "outputs": [],
   "source": [
    "import numpy as np\n",
    "import matplotlib.pyplot as plt\n",
    "from scipy import fft\n",
    "from h5py import File"
   ]
  },
  {
   "cell_type": "code",
   "execution_count": 2,
   "metadata": {},
   "outputs": [],
   "source": [
    "from KSVD import *\n",
    "from ResultProcess import PSNR\n",
    "from ImgProcess import *"
   ]
  },
  {
   "cell_type": "code",
   "execution_count": 3,
   "metadata": {},
   "outputs": [],
   "source": [
    "filePath = '../Images/lena.tif'\n",
    "size = 18\n",
    "sparsity = 6\n",
    "k = 3"
   ]
  },
  {
   "cell_type": "code",
   "execution_count": null,
   "metadata": {},
   "outputs": [],
   "source": [
    "_imgClear = plt.imread('../Images/McM images/' + fileName + '.tif') / 255\n",
    "_imgNoisy = File('../Images/McM images/' + fileName + '_noise.mat')\n",
    "_imgNoisy = [_channel.T / 255 for _channel in _imgNoisy['u_n']]"
   ]
  },
  {
   "cell_type": "code",
   "execution_count": null,
   "metadata": {},
   "outputs": [],
   "source": [
    "def Learning(fileName, size, sparsity, k):\n",
    "    \n",
    "\n",
    "    numDicts = int(np.ceil(size * k**0.5))\n",
    "    len_dict = 2 + (size + 2) * numDicts\n",
    "    img_dict = np.ones((len_dict, len_dict, 3))\n",
    "\n",
    "    # learn the dictionary\n",
    "    mD = fft.dct(np.eye(size**2 * k), norm='ortho')[: size**2, :]\n",
    "    _, mD = KSVD(channel, size, sparsity, 100, mD=mD)\n",
    "\n",
    "    # denoise the image using the learned dictionary\n",
    "    # denoise the channel: use max_iter=1 only learning once for the sparse coding\n",
    "    channel_denoised, _ = KSVD(channel_noisy, size, 1, eps=1e-7, mD=mD)\n",
    "    # calculate the PSNR value\n",
    "    psnr[color] = PSNR(channel, channel_denoised)\n",
    "\n",
    "    # normalize the channel\n",
    "    channel_denoised = (channel_denoised - channel_denoised.min()) / (channel_denoised.max() - channel_denoised.min())\n",
    "    img_denoised.append(channel_denoised)\n",
    "\n",
    "    # save the dictionary\n",
    "    mDD = (mD - mD.min()) / (mD.max() - mD.min())\n",
    "    for j in range(mDD.shape[1]):\n",
    "        atom = mDD[:, j].reshape((size, size))\n",
    "        idx = np.unravel_index(j, (numDicts, numDicts))\n",
    "        x = idx[0] * (size + 2) + 2\n",
    "        y = idx[1] * (size + 2) + 2\n",
    "        img_dict[x:x + size, y:y + size, i] = atom"
   ]
  }
 ],
 "metadata": {
  "kernelspec": {
   "display_name": "python3",
   "language": "python",
   "name": "python3"
  },
  "language_info": {
   "codemirror_mode": {
    "name": "ipython",
    "version": 3
   },
   "file_extension": ".py",
   "mimetype": "text/x-python",
   "name": "python",
   "nbconvert_exporter": "python",
   "pygments_lexer": "ipython3",
   "version": "3.11.5"
  }
 },
 "nbformat": 4,
 "nbformat_minor": 2
}
