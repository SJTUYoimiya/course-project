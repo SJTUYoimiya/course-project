{
 "cells": [
  {
   "cell_type": "code",
   "execution_count": 1,
   "metadata": {},
   "outputs": [],
   "source": [
    "import numpy as np\n",
    "import matplotlib.pyplot as plt\n",
    "from scipy import linalg as la\n",
    "from scipy import fft\n",
    "import h5py\n",
    "import os"
   ]
  },
  {
   "cell_type": "code",
   "execution_count": 2,
   "metadata": {},
   "outputs": [],
   "source": [
    "from ImgProcess import *     # import all functions from ../Codes/ImgProcessing.py\n",
    "from KSVD import *              # import all functions from ../Codes/KSVD.py"
   ]
  },
  {
   "cell_type": "markdown",
   "metadata": {},
   "source": [
    "# 0. read the images"
   ]
  },
  {
   "cell_type": "code",
   "execution_count": 9,
   "metadata": {},
   "outputs": [],
   "source": [
    "# read the gray scale images\n",
    "path = '../Images/'\n",
    "imgs_gray = {}\n",
    "for file in [file for file in os.listdir(path) if file.endswith('.png')]:\n",
    "    imgs_gray[file] = plt.imread(path + file)"
   ]
  },
  {
   "cell_type": "code",
   "execution_count": 12,
   "metadata": {},
   "outputs": [],
   "source": [
    "path = '../Images/McM images/'\n",
    "# read the color images\n",
    "imgs_clear = {}\n",
    "for file in [file for file in os.listdir(path) if file.endswith('.tif')]:\n",
    "    _img = plt.imread(path + file)    # extract the color channels\n",
    "    imgs_clear[file] = [_img[:,:,0], _img[:,:,1], _img[:,:,2]]\n",
    "\n",
    "# read the noisy color images\n",
    "imgs_noise = {}\n",
    "for file in [file for file in os.listdir(path) if file.endswith('.mat')]:\n",
    "    _img = h5py.File(path + file)    # extract the color channels\n",
    "    imgs_noise[file] = list(_img['u_n'])"
   ]
  },
  {
   "cell_type": "markdown",
   "metadata": {},
   "source": [
    "# Task 1. 灰色图像的字典学习算法\n",
    "\n",
    "使用 K-SVD 算法对灰度图像进行字典学习. "
   ]
  },
  {
   "cell_type": "markdown",
   "metadata": {},
   "source": [
    "## K-SVD 算法\n",
    "\n",
    "1. **初始化字典**: \n",
    "\n",
    "    选取 DCT（离散余弦变换）原子作为初始字典，字典的大小为 $n \\times 2n$，其中 $n$ 为 patch 的大小; 为了实现稀疏表示，选取 $2n$ 个原子组成过完备字典，并进行归一化. \n",
    "\n",
    "2. **稀疏编码**: 对 patches 中的每条 patch，使用 OMP 算法进行稀疏编码.\n",
    "    \n",
    "3. **更新字典**：逐步更新字典中的原子（基向量）\n",
    "\n",
    "   - **选取样本**：选取使用当前原子表示的样本. \n",
    "   - **更新原子**：对残差进行梯度下降，更新原子. \n",
    "\n",
    "4. **重复迭代**：重复步骤 2, 3，直到满足停止条件（达到最大迭代次数 / 字典不再发生显著变化）\n",
    "\n",
    "### 稀疏编码: OMP 算法\n",
    "\n",
    "设输入信号为 $y$，字典为 $D$，稀疏表示向量为 $x$. OMP 算法目标是找到最优的稀疏表示 $x$ s.t. $y = Dx$. OMP 算法的流程如下：\n",
    "\n",
    "- **初始化**: 设 $x = 0$，$r = y$. \n",
    "- **迭代**：\n",
    "   1. 选择最相关的原子: 找到字典 $D$ 中与残差 $r$ 最相关（内积最大）的基向量，假设是第 $k$ 个. \n",
    "   2. 更新: $x_k = x_k + d_k^T r$; $r = r - d_k^T r \\cdot d_k$. \n",
    "   3. 检查条件：重复步骤 2, 3，检查 $x$ 稀疏度、残差大小是否满足精度要求，若有一项满足，则停止迭代. \n",
    "\n",
    "### 字典更新\n",
    "\n",
    "从字典中选择原子 $d_k$，设利用此原子进行稀疏编码的样本为 $Y_k$\n",
    "\n",
    "1. **选取字典中的原子**: 对于每一个字典中的原子（基向量），依次进行更新. 设第 $k$ 步更新原子 $d_k$.\n",
    "2. **选取相关样本**: 对于当前待更新的原子，找到使用该原子进行稀疏编码的样本。\n",
    "\n",
    "    设 $ I_k = \\{ j: x_jk \\neq 0 \\} $，令 $ Y_k = Y_{I_k} $ 表示使用原子 $d_k$ 进行稀疏编码的样本，$X_k = X_{I_k \\times k} $ 表示相应稀疏编码的系数.\n",
    "\n",
    "3. **更新原子**: 通过梯度下降法优最小化残差，以更新当前选定的原子\n",
    "\n",
    "    目标问题为\n",
    "    $$\n",
    "    \\min_{d \\in \\mathbb{R}^{\\mathrm{P}}} \\Phi(d) = \\frac{1}{2} \\| Y_k - d_k X_k \\|_F^2\n",
    "    $$\n",
    "\n",
    "    其中 $ \\nabla \\Phi (d) = - (Y_k - d_k X_k) X_k^T $\n",
    "\n",
    "4. **重复迭代**: 对所有字典中的原子重复 1-3，直到满足停止条件（如达到最大迭代次数或字典变化不大）。\n",
    "\n"
   ]
  },
  {
   "cell_type": "code",
   "execution_count": 16,
   "metadata": {},
   "outputs": [],
   "source": [
    "# Divide the images into patches\n",
    "img = imgs_clear['McM01.tif']\n",
    "img_learned = []\n",
    "dictionary = {}\n",
    "for i in range(3):\n",
    "    channel = img[i]\n",
    "    size = 16\n",
    "    patches, locs, dcs = Img2patch(channel, size, 2)\n",
    "\n",
    "    # Initialize the dictionary as the DCT basis\n",
    "    mD = fft.dct(np.eye(2 * size**2), norm='ortho')[: size**2]\n",
    "    mD, mX = KSVD(patches, mD, 12)\n",
    "    dictionary[i] = mD\n",
    "    \n",
    "    # Reconstruct the image\n",
    "    channel_ = Img2patch(mD@mX, locs, dcs, inv=True)\n",
    "    img_learned.append(channel_)"
   ]
  }
 ],
 "metadata": {
  "kernelspec": {
   "display_name": "python3",
   "language": "python",
   "name": "python3"
  },
  "language_info": {
   "codemirror_mode": {
    "name": "ipython",
    "version": 3
   },
   "file_extension": ".py",
   "mimetype": "text/x-python",
   "name": "python",
   "nbconvert_exporter": "python",
   "pygments_lexer": "ipython3",
   "version": "3.11.5"
  }
 },
 "nbformat": 4,
 "nbformat_minor": 2
}
